{
 "cells": [
  {
   "cell_type": "code",
   "execution_count": 4,
   "metadata": {
    "id": "pOtm_6AtfVU7"
   },
   "outputs": [],
   "source": [
    "import tensorflow as tf\n",
    "import numpy as np\n",
    "import pandas as pd\n",
    "import matplotlib.pyplot as plt\n",
    "import keras\n",
    "import cv2\n",
    "from keras.models import Sequential \n",
    "from keras.layers import Conv2D,MaxPooling2D, Dense,Flatten, Dropout\n",
    "from keras.datasets import mnist \n",
    "import matplotlib.pyplot as plt\n",
    "from keras.utils import np_utils"
   ]
  },
  {
   "cell_type": "code",
   "execution_count": 5,
   "metadata": {
    "colab": {
     "base_uri": "https://localhost:8080/",
     "height": 345
    },
    "id": "XRQIfkE3foW-",
    "outputId": "85602773-add0-46c9-d71d-7320c0632519"
   },
   "outputs": [],
   "source": [
    "train = pd.read_csv('train.csv')\n",
    "test = pd.read_csv('test.csv')"
   ]
  },
  {
   "cell_type": "code",
   "execution_count": 6,
   "metadata": {
    "id": "sHopPe45hhc9"
   },
   "outputs": [
    {
     "name": "stdout",
     "output_type": "stream",
     "text": [
      "<class 'pandas.core.frame.DataFrame'>\n",
      "RangeIndex: 27455 entries, 0 to 27454\n",
      "Columns: 785 entries, label to pixel784\n",
      "dtypes: int64(785)\n",
      "memory usage: 164.4 MB\n"
     ]
    },
    {
     "data": {
      "text/plain": [
       "None"
      ]
     },
     "metadata": {},
     "output_type": "display_data"
    },
    {
     "name": "stdout",
     "output_type": "stream",
     "text": [
      "<class 'pandas.core.frame.DataFrame'>\n",
      "RangeIndex: 7172 entries, 0 to 7171\n",
      "Columns: 785 entries, label to pixel784\n",
      "dtypes: int64(785)\n",
      "memory usage: 43.0 MB\n"
     ]
    },
    {
     "data": {
      "text/plain": [
       "None"
      ]
     },
     "metadata": {},
     "output_type": "display_data"
    },
    {
     "data": {
      "text/html": [
       "<div>\n",
       "<style scoped>\n",
       "    .dataframe tbody tr th:only-of-type {\n",
       "        vertical-align: middle;\n",
       "    }\n",
       "\n",
       "    .dataframe tbody tr th {\n",
       "        vertical-align: top;\n",
       "    }\n",
       "\n",
       "    .dataframe thead th {\n",
       "        text-align: right;\n",
       "    }\n",
       "</style>\n",
       "<table border=\"1\" class=\"dataframe\">\n",
       "  <thead>\n",
       "    <tr style=\"text-align: right;\">\n",
       "      <th></th>\n",
       "      <th>label</th>\n",
       "      <th>pixel1</th>\n",
       "      <th>pixel2</th>\n",
       "      <th>pixel3</th>\n",
       "      <th>pixel4</th>\n",
       "      <th>pixel5</th>\n",
       "      <th>pixel6</th>\n",
       "      <th>pixel7</th>\n",
       "      <th>pixel8</th>\n",
       "      <th>pixel9</th>\n",
       "      <th>...</th>\n",
       "      <th>pixel775</th>\n",
       "      <th>pixel776</th>\n",
       "      <th>pixel777</th>\n",
       "      <th>pixel778</th>\n",
       "      <th>pixel779</th>\n",
       "      <th>pixel780</th>\n",
       "      <th>pixel781</th>\n",
       "      <th>pixel782</th>\n",
       "      <th>pixel783</th>\n",
       "      <th>pixel784</th>\n",
       "    </tr>\n",
       "  </thead>\n",
       "  <tbody>\n",
       "    <tr>\n",
       "      <th>0</th>\n",
       "      <td>3</td>\n",
       "      <td>107</td>\n",
       "      <td>118</td>\n",
       "      <td>127</td>\n",
       "      <td>134</td>\n",
       "      <td>139</td>\n",
       "      <td>143</td>\n",
       "      <td>146</td>\n",
       "      <td>150</td>\n",
       "      <td>153</td>\n",
       "      <td>...</td>\n",
       "      <td>207</td>\n",
       "      <td>207</td>\n",
       "      <td>207</td>\n",
       "      <td>207</td>\n",
       "      <td>206</td>\n",
       "      <td>206</td>\n",
       "      <td>206</td>\n",
       "      <td>204</td>\n",
       "      <td>203</td>\n",
       "      <td>202</td>\n",
       "    </tr>\n",
       "    <tr>\n",
       "      <th>1</th>\n",
       "      <td>6</td>\n",
       "      <td>155</td>\n",
       "      <td>157</td>\n",
       "      <td>156</td>\n",
       "      <td>156</td>\n",
       "      <td>156</td>\n",
       "      <td>157</td>\n",
       "      <td>156</td>\n",
       "      <td>158</td>\n",
       "      <td>158</td>\n",
       "      <td>...</td>\n",
       "      <td>69</td>\n",
       "      <td>149</td>\n",
       "      <td>128</td>\n",
       "      <td>87</td>\n",
       "      <td>94</td>\n",
       "      <td>163</td>\n",
       "      <td>175</td>\n",
       "      <td>103</td>\n",
       "      <td>135</td>\n",
       "      <td>149</td>\n",
       "    </tr>\n",
       "  </tbody>\n",
       "</table>\n",
       "<p>2 rows × 785 columns</p>\n",
       "</div>"
      ],
      "text/plain": [
       "   label  pixel1  pixel2  pixel3  pixel4  pixel5  pixel6  pixel7  pixel8  \\\n",
       "0      3     107     118     127     134     139     143     146     150   \n",
       "1      6     155     157     156     156     156     157     156     158   \n",
       "\n",
       "   pixel9  ...  pixel775  pixel776  pixel777  pixel778  pixel779  pixel780  \\\n",
       "0     153  ...       207       207       207       207       206       206   \n",
       "1     158  ...        69       149       128        87        94       163   \n",
       "\n",
       "   pixel781  pixel782  pixel783  pixel784  \n",
       "0       206       204       203       202  \n",
       "1       175       103       135       149  \n",
       "\n",
       "[2 rows x 785 columns]"
      ]
     },
     "metadata": {},
     "output_type": "display_data"
    },
    {
     "data": {
      "text/html": [
       "<div>\n",
       "<style scoped>\n",
       "    .dataframe tbody tr th:only-of-type {\n",
       "        vertical-align: middle;\n",
       "    }\n",
       "\n",
       "    .dataframe tbody tr th {\n",
       "        vertical-align: top;\n",
       "    }\n",
       "\n",
       "    .dataframe thead th {\n",
       "        text-align: right;\n",
       "    }\n",
       "</style>\n",
       "<table border=\"1\" class=\"dataframe\">\n",
       "  <thead>\n",
       "    <tr style=\"text-align: right;\">\n",
       "      <th></th>\n",
       "      <th>label</th>\n",
       "      <th>pixel1</th>\n",
       "      <th>pixel2</th>\n",
       "      <th>pixel3</th>\n",
       "      <th>pixel4</th>\n",
       "      <th>pixel5</th>\n",
       "      <th>pixel6</th>\n",
       "      <th>pixel7</th>\n",
       "      <th>pixel8</th>\n",
       "      <th>pixel9</th>\n",
       "      <th>...</th>\n",
       "      <th>pixel775</th>\n",
       "      <th>pixel776</th>\n",
       "      <th>pixel777</th>\n",
       "      <th>pixel778</th>\n",
       "      <th>pixel779</th>\n",
       "      <th>pixel780</th>\n",
       "      <th>pixel781</th>\n",
       "      <th>pixel782</th>\n",
       "      <th>pixel783</th>\n",
       "      <th>pixel784</th>\n",
       "    </tr>\n",
       "  </thead>\n",
       "  <tbody>\n",
       "    <tr>\n",
       "      <th>0</th>\n",
       "      <td>6</td>\n",
       "      <td>149</td>\n",
       "      <td>149</td>\n",
       "      <td>150</td>\n",
       "      <td>150</td>\n",
       "      <td>150</td>\n",
       "      <td>151</td>\n",
       "      <td>151</td>\n",
       "      <td>150</td>\n",
       "      <td>151</td>\n",
       "      <td>...</td>\n",
       "      <td>138</td>\n",
       "      <td>148</td>\n",
       "      <td>127</td>\n",
       "      <td>89</td>\n",
       "      <td>82</td>\n",
       "      <td>96</td>\n",
       "      <td>106</td>\n",
       "      <td>112</td>\n",
       "      <td>120</td>\n",
       "      <td>107</td>\n",
       "    </tr>\n",
       "    <tr>\n",
       "      <th>1</th>\n",
       "      <td>5</td>\n",
       "      <td>126</td>\n",
       "      <td>128</td>\n",
       "      <td>131</td>\n",
       "      <td>132</td>\n",
       "      <td>133</td>\n",
       "      <td>134</td>\n",
       "      <td>135</td>\n",
       "      <td>135</td>\n",
       "      <td>136</td>\n",
       "      <td>...</td>\n",
       "      <td>47</td>\n",
       "      <td>104</td>\n",
       "      <td>194</td>\n",
       "      <td>183</td>\n",
       "      <td>186</td>\n",
       "      <td>184</td>\n",
       "      <td>184</td>\n",
       "      <td>184</td>\n",
       "      <td>182</td>\n",
       "      <td>180</td>\n",
       "    </tr>\n",
       "  </tbody>\n",
       "</table>\n",
       "<p>2 rows × 785 columns</p>\n",
       "</div>"
      ],
      "text/plain": [
       "   label  pixel1  pixel2  pixel3  pixel4  pixel5  pixel6  pixel7  pixel8  \\\n",
       "0      6     149     149     150     150     150     151     151     150   \n",
       "1      5     126     128     131     132     133     134     135     135   \n",
       "\n",
       "   pixel9  ...  pixel775  pixel776  pixel777  pixel778  pixel779  pixel780  \\\n",
       "0     151  ...       138       148       127        89        82        96   \n",
       "1     136  ...        47       104       194       183       186       184   \n",
       "\n",
       "   pixel781  pixel782  pixel783  pixel784  \n",
       "0       106       112       120       107  \n",
       "1       184       184       182       180  \n",
       "\n",
       "[2 rows x 785 columns]"
      ]
     },
     "metadata": {},
     "output_type": "display_data"
    }
   ],
   "source": [
    "display(train.info())\n",
    "display(test.info())\n",
    "display(train.head(n = 2))\n",
    "display(test.head(n = 2))"
   ]
  },
  {
   "cell_type": "code",
   "execution_count": 7,
   "metadata": {
    "id": "g3goCYVggUiU"
   },
   "outputs": [],
   "source": [
    "y_train = train['label'].values\n",
    "y_test = test['label'].values\n",
    "\n",
    "X_train = train.drop(['label'],axis=1)\n",
    "X_test = test.drop(['label'], axis=1)\n",
    "\n",
    "X_train = np.array(X_train.iloc[:,:])\n",
    "X_train = np.array([np.reshape(i, (28,28)) for i in X_train])\n",
    "\n",
    "X_test = np.array(X_test.iloc[:,:])\n",
    "X_test = np.array([np.reshape(i, (28,28)) for i in X_test])\n",
    "\n",
    "num_classes = 26\n",
    "y_train = np.array(y_train).reshape(-1)\n",
    "y_test = np.array(y_test).reshape(-1)\n",
    "\n",
    "y_train = np.eye(num_classes)[y_train]\n",
    "y_test = np.eye(num_classes)[y_test]"
   ]
  },
  {
   "cell_type": "code",
   "execution_count": 8,
   "metadata": {
    "id": "XL4Z7yATgVTd"
   },
   "outputs": [],
   "source": [
    "X_train = X_train.reshape((27455, 28, 28, 1))\n",
    "X_test = X_test.reshape((7172, 28, 28, 1))"
   ]
  },
  {
   "cell_type": "code",
   "execution_count": 9,
   "metadata": {
    "id": "cPHlAnCtga8X"
   },
   "outputs": [],
   "source": [
    "classifier = Sequential()\n",
    "classifier.add(Conv2D(filters=8, kernel_size=(3,3),strides=(1,1),padding='same',input_shape=(28,28,1),activation='relu', data_format='channels_last'))\n",
    "classifier.add(MaxPooling2D(pool_size=(2,2)))\n",
    "classifier.add(Conv2D(filters=16, kernel_size=(3,3),strides=(1,1),padding='same',activation='relu'))\n",
    "classifier.add(Dropout(0.5))\n",
    "classifier.add(MaxPooling2D(pool_size=(4,4)))\n",
    "classifier.add(Dense(128, activation='relu'))\n",
    "classifier.add(Flatten())\n",
    "classifier.add(Dense(26, activation='softmax'))\n",
    "classifier.compile(optimizer='SGD', loss='categorical_crossentropy', metrics=['accuracy'])"
   ]
  },
  {
   "cell_type": "code",
   "execution_count": 10,
   "metadata": {
    "id": "qOgCLtPTgdzk"
   },
   "outputs": [
    {
     "name": "stdout",
     "output_type": "stream",
     "text": [
      "Epoch 1/50\n",
      "275/275 [==============================] - 6s 21ms/step - loss: 4.1601 - accuracy: 0.3101\n",
      "Epoch 2/50\n",
      "275/275 [==============================] - 6s 22ms/step - loss: 0.8307 - accuracy: 0.7226\n",
      "Epoch 3/50\n",
      "275/275 [==============================] - 6s 21ms/step - loss: 0.4757 - accuracy: 0.8340\n",
      "Epoch 4/50\n",
      "275/275 [==============================] - 6s 21ms/step - loss: 0.3591 - accuracy: 0.8720\n",
      "Epoch 5/50\n",
      "275/275 [==============================] - 6s 21ms/step - loss: 0.2879 - accuracy: 0.8979\n",
      "Epoch 6/50\n",
      "275/275 [==============================] - 6s 22ms/step - loss: 0.2412 - accuracy: 0.9139\n",
      "Epoch 7/50\n",
      "275/275 [==============================] - 6s 23ms/step - loss: 0.2121 - accuracy: 0.9269\n",
      "Epoch 8/50\n",
      "275/275 [==============================] - 8s 29ms/step - loss: 0.1862 - accuracy: 0.9348\n",
      "Epoch 9/50\n",
      "275/275 [==============================] - 7s 24ms/step - loss: 0.1735 - accuracy: 0.9399\n",
      "Epoch 10/50\n",
      "275/275 [==============================] - 6s 22ms/step - loss: 0.1560 - accuracy: 0.9468\n",
      "Epoch 11/50\n",
      "275/275 [==============================] - 6s 20ms/step - loss: 0.1447 - accuracy: 0.9490\n",
      "Epoch 12/50\n",
      "275/275 [==============================] - 6s 22ms/step - loss: 0.1258 - accuracy: 0.9579\n",
      "Epoch 13/50\n",
      "275/275 [==============================] - 6s 21ms/step - loss: 0.1195 - accuracy: 0.9582 0s - loss:\n",
      "Epoch 14/50\n",
      "275/275 [==============================] - 6s 20ms/step - loss: 0.1186 - accuracy: 0.9586\n",
      "Epoch 15/50\n",
      "275/275 [==============================] - 5s 20ms/step - loss: 0.1160 - accuracy: 0.9605\n",
      "Epoch 16/50\n",
      "275/275 [==============================] - 6s 21ms/step - loss: 0.1089 - accuracy: 0.9620\n",
      "Epoch 17/50\n",
      "275/275 [==============================] - 5s 20ms/step - loss: 0.0911 - accuracy: 0.9687 0s - loss: 0.0924 - accuracy: \n",
      "Epoch 18/50\n",
      "275/275 [==============================] - 6s 20ms/step - loss: 0.0951 - accuracy: 0.9675\n",
      "Epoch 19/50\n",
      "275/275 [==============================] - 6s 20ms/step - loss: 0.0912 - accuracy: 0.9694\n",
      "Epoch 20/50\n",
      "275/275 [==============================] - 6s 21ms/step - loss: 0.0789 - accuracy: 0.9717\n",
      "Epoch 21/50\n",
      "275/275 [==============================] - 6s 20ms/step - loss: 0.0826 - accuracy: 0.9716 0s - loss: 0.0828 - accuracy: \n",
      "Epoch 22/50\n",
      "275/275 [==============================] - 6s 21ms/step - loss: 0.0821 - accuracy: 0.9739\n",
      "Epoch 23/50\n",
      "275/275 [==============================] - 6s 21ms/step - loss: 0.0708 - accuracy: 0.9762\n",
      "Epoch 24/50\n",
      "275/275 [==============================] - 6s 22ms/step - loss: 0.0749 - accuracy: 0.9742\n",
      "Epoch 25/50\n",
      "275/275 [==============================] - 6s 22ms/step - loss: 0.0671 - accuracy: 0.9768\n",
      "Epoch 26/50\n",
      "275/275 [==============================] - 6s 22ms/step - loss: 0.0615 - accuracy: 0.9793\n",
      "Epoch 27/50\n",
      "275/275 [==============================] - 6s 22ms/step - loss: 0.0603 - accuracy: 0.9791 0s - loss: 0.061\n",
      "Epoch 28/50\n",
      "275/275 [==============================] - 6s 21ms/step - loss: 0.0675 - accuracy: 0.9775\n",
      "Epoch 29/50\n",
      "275/275 [==============================] - 6s 22ms/step - loss: 0.0675 - accuracy: 0.9778\n",
      "Epoch 30/50\n",
      "275/275 [==============================] - 6s 22ms/step - loss: 0.0665 - accuracy: 0.9792\n",
      "Epoch 31/50\n",
      "275/275 [==============================] - 6s 22ms/step - loss: 0.0605 - accuracy: 0.9802\n",
      "Epoch 32/50\n",
      "275/275 [==============================] - 6s 21ms/step - loss: 0.0664 - accuracy: 0.9777\n",
      "Epoch 33/50\n",
      "275/275 [==============================] - 6s 22ms/step - loss: 0.0500 - accuracy: 0.9830\n",
      "Epoch 34/50\n",
      "275/275 [==============================] - 6s 22ms/step - loss: 0.0480 - accuracy: 0.9843\n",
      "Epoch 35/50\n",
      "275/275 [==============================] - 7s 26ms/step - loss: 0.0564 - accuracy: 0.9812\n",
      "Epoch 36/50\n",
      "275/275 [==============================] - 8s 28ms/step - loss: 0.0486 - accuracy: 0.9842\n",
      "Epoch 37/50\n",
      "275/275 [==============================] - 7s 27ms/step - loss: 0.0541 - accuracy: 0.9821\n",
      "Epoch 38/50\n",
      "275/275 [==============================] - 6s 23ms/step - loss: 0.0492 - accuracy: 0.9840\n",
      "Epoch 39/50\n",
      "275/275 [==============================] - 6s 22ms/step - loss: 0.0509 - accuracy: 0.9838\n",
      "Epoch 40/50\n",
      "275/275 [==============================] - 6s 20ms/step - loss: 0.0483 - accuracy: 0.9840\n",
      "Epoch 41/50\n",
      "275/275 [==============================] - 6s 21ms/step - loss: 0.0500 - accuracy: 0.9838\n",
      "Epoch 42/50\n",
      "275/275 [==============================] - 6s 22ms/step - loss: 0.0497 - accuracy: 0.9839\n",
      "Epoch 43/50\n",
      "275/275 [==============================] - 6s 22ms/step - loss: 0.0411 - accuracy: 0.9862\n",
      "Epoch 44/50\n",
      "275/275 [==============================] - 6s 21ms/step - loss: 0.0398 - accuracy: 0.9879\n",
      "Epoch 45/50\n",
      "275/275 [==============================] - 7s 25ms/step - loss: 0.0452 - accuracy: 0.9860\n",
      "Epoch 46/50\n",
      "275/275 [==============================] - 7s 26ms/step - loss: 0.0464 - accuracy: 0.9848\n",
      "Epoch 47/50\n",
      "275/275 [==============================] - 6s 22ms/step - loss: 0.0403 - accuracy: 0.9865\n",
      "Epoch 48/50\n",
      "275/275 [==============================] - 6s 22ms/step - loss: 0.0402 - accuracy: 0.9877\n",
      "Epoch 49/50\n",
      "275/275 [==============================] - 7s 24ms/step - loss: 0.0384 - accuracy: 0.9892\n",
      "Epoch 50/50\n",
      "275/275 [==============================] - 6s 23ms/step - loss: 0.0428 - accuracy: 0.9866\n"
     ]
    },
    {
     "data": {
      "text/plain": [
       "<keras.callbacks.History at 0x1cb8ac9c700>"
      ]
     },
     "execution_count": 10,
     "metadata": {},
     "output_type": "execute_result"
    }
   ],
   "source": [
    "classifier.compile(loss='categorical_crossentropy', optimizer='adam', metrics=['accuracy'])\n",
    "classifier.fit(X_train, y_train, epochs=50, batch_size=100)"
   ]
  },
  {
   "cell_type": "code",
   "execution_count": 11,
   "metadata": {
    "id": "Rzp8ywmkgzEy"
   },
   "outputs": [
    {
     "name": "stdout",
     "output_type": "stream",
     "text": [
      "225/225 [==============================] - 1s 4ms/step - loss: 0.3643 - accuracy: 0.9159\n",
      "Accuracy:  0.9159230589866638\n"
     ]
    }
   ],
   "source": [
    "accuracy = classifier.evaluate(x=X_test,y=y_test,batch_size=32)\n",
    "print(\"Accuracy: \",accuracy[1])"
   ]
  },
  {
   "cell_type": "code",
   "execution_count": 12,
   "metadata": {
    "id": "VW-41zZ2g02w"
   },
   "outputs": [
    {
     "name": "stdout",
     "output_type": "stream",
     "text": [
      "Model: \"sequential\"\n",
      "_________________________________________________________________\n",
      " Layer (type)                Output Shape              Param #   \n",
      "=================================================================\n",
      " conv2d (Conv2D)             (None, 28, 28, 8)         80        \n",
      "                                                                 \n",
      " max_pooling2d (MaxPooling2D  (None, 14, 14, 8)        0         \n",
      " )                                                               \n",
      "                                                                 \n",
      " conv2d_1 (Conv2D)           (None, 14, 14, 16)        1168      \n",
      "                                                                 \n",
      " dropout (Dropout)           (None, 14, 14, 16)        0         \n",
      "                                                                 \n",
      " max_pooling2d_1 (MaxPooling  (None, 3, 3, 16)         0         \n",
      " 2D)                                                             \n",
      "                                                                 \n",
      " dense (Dense)               (None, 3, 3, 128)         2176      \n",
      "                                                                 \n",
      " flatten (Flatten)           (None, 1152)              0         \n",
      "                                                                 \n",
      " dense_1 (Dense)             (None, 26)                29978     \n",
      "                                                                 \n",
      "=================================================================\n",
      "Total params: 33,402\n",
      "Trainable params: 33,402\n",
      "Non-trainable params: 0\n",
      "_________________________________________________________________\n"
     ]
    }
   ],
   "source": [
    "classifier.summary()"
   ]
  },
  {
   "cell_type": "code",
   "execution_count": 13,
   "metadata": {},
   "outputs": [],
   "source": [
    "classifier.save('CNNmodel.h5')"
   ]
  },
  {
   "cell_type": "code",
   "execution_count": null,
   "metadata": {},
   "outputs": [],
   "source": []
  }
 ],
 "metadata": {
  "colab": {
   "name": "Untitled1.ipynb",
   "provenance": []
  },
  "kernelspec": {
   "display_name": "Python 3",
   "language": "python",
   "name": "python3"
  },
  "language_info": {
   "codemirror_mode": {
    "name": "ipython",
    "version": 3
   },
   "file_extension": ".py",
   "mimetype": "text/x-python",
   "name": "python",
   "nbconvert_exporter": "python",
   "pygments_lexer": "ipython3",
   "version": "3.8.5"
  }
 },
 "nbformat": 4,
 "nbformat_minor": 1
}
